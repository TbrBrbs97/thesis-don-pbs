{
 "cells": [
  {
   "cell_type": "markdown",
   "metadata": {},
   "source": [
    "# Main Script\n",
    "\n",
    "STATIC VERSION\n",
    "- Given a fixed DoD\n",
    "- Main function\n",
    "- Auxillary functions:\n",
    "    - initial solution creator: fill up vehicles while respecting capacity\n",
    "    - (greedy) insertion heuristic: in stead of looking for all possible insertions, look for a better insertion until you find no better one\n",
    "        - initial solution creator > spatio-temporal clustering of requests?\n",
    "        - feasibility check\n",
    "        - incremental waiting time + travel time calculator\n",
    "    - improvement heuristic\n",
    "        - neighborhood creators (destroy&repair, swappers, L-opt moves, ...)\n",
    "        - evaluate objective functions"
   ]
  },
  {
   "cell_type": "markdown",
   "metadata": {},
   "source": [
    "## Todo (update 16/2)\n",
    "\n",
    "- Test basic network loading functions for larger instances! \n",
    "- Some vehicles can drive all the way to 5 (1 > 5 > 1), others return from 3 directly back (1 > 3 > 1)\n",
    "    - make it that some vehicles are available at the depot: these can be schedules for new rides"
   ]
  },
  {
   "cell_type": "code",
   "execution_count": 26,
   "metadata": {},
   "outputs": [],
   "source": [
    "import numpy as np\n",
    "import pandas as pd\n",
    "import pickle\n",
    "import matplotlib.pyplot as plt\n",
    "\n",
    "import network_generation as netg\n",
    "import requests_generation as rg\n",
    "import solution_generation as sg\n",
    "import solution_evaluation as se\n",
    "import solution_visualisation as sv"
   ]
  },
  {
   "cell_type": "code",
   "execution_count": 27,
   "metadata": {},
   "outputs": [],
   "source": [
    "# PARAMETERS\n",
    "\n",
    "#network\n",
    "network_size = 'small'\n",
    "interstop_distance = 'half'\n",
    "v_mean = 50 #km/h\n",
    "\n",
    "#requests\n",
    "demand_scenario = 2\n",
    "time_of_day = 1 #1 = peak, 0 = off-peak\n",
    "peak_duration = 60 #min.\n",
    "req_max_cluster_time = 5 #min.\n",
    "\n",
    "#vehicles\n",
    "available_vehicles = 36\n",
    "vehicle_capacity = 20\n",
    "dod = 0   #static version = 0, dynamic version > 0\n",
    "\n",
    "#objective function\n",
    "WT_pen = 3 \n",
    "TT_pen = 1 "
   ]
  },
  {
   "cell_type": "markdown",
   "metadata": {},
   "source": [
    "## Load network"
   ]
  },
  {
   "cell_type": "code",
   "execution_count": 28,
   "metadata": {
    "scrolled": true
   },
   "outputs": [
    {
     "data": {
      "text/plain": [
       "{(1, 1): 0.0,\n",
       " (1, 2): 5.9687184554140265,\n",
       " (1, 3): 6.0,\n",
       " (1, 4): 5.9687184554140265,\n",
       " (1, 5): 0.0,\n",
       " (2, 1): 5.9687184554140265,\n",
       " (2, 2): 0.0,\n",
       " (2, 3): 5.9687184554140265,\n",
       " (2, 4): 0.0,\n",
       " (2, 5): 5.9687184554140265,\n",
       " (3, 1): 6.0,\n",
       " (3, 2): 5.9687184554140265,\n",
       " (3, 3): 0.0,\n",
       " (3, 4): 5.9687184554140265,\n",
       " (3, 5): 6.0,\n",
       " (4, 1): 5.9687184554140265,\n",
       " (4, 2): 0.0,\n",
       " (4, 3): 5.9687184554140265,\n",
       " (4, 4): 0.0,\n",
       " (4, 5): 5.9687184554140265,\n",
       " (5, 1): 0.0,\n",
       " (5, 2): 5.9687184554140265,\n",
       " (5, 3): 6.0,\n",
       " (5, 4): 5.9687184554140265,\n",
       " (5, 5): 0.0}"
      ]
     },
     "execution_count": 28,
     "metadata": {},
     "output_type": "execute_result"
    }
   ],
   "source": [
    "# network\n",
    "network = netg.import_network(network_size, interstop_distance)\n",
    "od_matrix = netg.generate_tt_od(network, v_mean)\n",
    "od_matrix"
   ]
  },
  {
   "cell_type": "markdown",
   "metadata": {},
   "source": [
    "## Import requests"
   ]
  },
  {
   "cell_type": "code",
   "execution_count": 29,
   "metadata": {},
   "outputs": [],
   "source": [
    "lambdapeak = rg.get_scenario_mean_demand('city', network_size, scen=demand_scenario, peak=1)\n",
    "mupeak = rg.get_scenario_mean_demand('terminal', network_size, scen=demand_scenario, peak=1)"
   ]
  },
  {
   "cell_type": "code",
   "execution_count": 30,
   "metadata": {
    "scrolled": true
   },
   "outputs": [],
   "source": [
    "dict_requests = rg.convert_md_todict(lambdapeak, mupeak, demand_scenario)\n",
    "total_requests = rg.generate_requests(dict_requests, peak_duration)\n",
    "od_pairs = set(total_requests.keys())"
   ]
  },
  {
   "cell_type": "code",
   "execution_count": 33,
   "metadata": {},
   "outputs": [
    {
     "data": {
      "text/plain": [
       "630"
      ]
     },
     "execution_count": 33,
     "metadata": {},
     "output_type": "execute_result"
    }
   ],
   "source": [
    "list_all_requests = rg.list_all_requests(total_requests)\n",
    "list_all_requests\n",
    "len(list_all_requests)"
   ]
  },
  {
   "cell_type": "code",
   "execution_count": null,
   "metadata": {},
   "outputs": [],
   "source": [
    "# requests are grouped per 5 minutes from the 1st departure of a group\n",
    "copy_list_requests = list_all_requests.copy()\n",
    "grouped_requests = rg.group_requests_dt(copy_list_requests, req_max_cluster_time, od_pairs)\n",
    "grouped_requests"
   ]
  },
  {
   "cell_type": "code",
   "execution_count": null,
   "metadata": {},
   "outputs": [],
   "source": [
    "# this shows how big the groups of passengers are (per threshold time from the first departure) + how many there are\n",
    "count_groups = rg.request_groups_per_od(grouped_requests)\n",
    "count_groups"
   ]
  },
  {
   "cell_type": "markdown",
   "metadata": {},
   "source": [
    "## Initial solution generation"
   ]
  },
  {
   "cell_type": "markdown",
   "metadata": {},
   "source": [
    "Insertion strategy: momentarily focussed on the capacity constraint (i.e. trying to fill vehicles), not so much on the time constraint\n",
    "\n",
    "1. Divide requests into chunks: \n",
    " * (a) of at most equal size (e.g. 10) \n",
    " * (b) group requests as long as the maximum waiting time is e.g. 5 min.\n",
    "2. Select a first chunk of travellers, who want to travel from the origin to the farthest point, and fill a bus with them (almost) \n",
    "    * If this bus is ride is full, then this schedule is complete.\n",
    "    * If there is room left, then add passengers in between at each visited stop.\n"
   ]
  },
  {
   "cell_type": "code",
   "execution_count": null,
   "metadata": {},
   "outputs": [],
   "source": [
    "# MOVE this to the parameter section!\n",
    "terminal, city, terminal_end = netg.get_network_boundaries(network)\n",
    "network_dim = terminal, city, terminal_end\n",
    "# find a more systematic way to decide which services make the entire trip\n",
    "round_trips = {1, 2, 3, 4, 5, 7, 8, 9}\n",
    "\n",
    "first_veh_index = 1\n",
    "\n",
    "copy_grouped_requests = grouped_requests.copy()"
   ]
  },
  {
   "cell_type": "code",
   "execution_count": null,
   "metadata": {
    "scrolled": true
   },
   "outputs": [],
   "source": [
    "initial = sg.create_initial_solution(copy_grouped_requests, city, terminal_end, network_dim, first_veh_index,  \n",
    "                                     available_vehicles, round_trips, vehicle_capacity)"
   ]
  },
  {
   "cell_type": "code",
   "execution_count": null,
   "metadata": {},
   "outputs": [],
   "source": [
    "# check if all requests are indeed added ot a schedule\n",
    "copy_grouped_requests"
   ]
  },
  {
   "cell_type": "markdown",
   "metadata": {},
   "source": [
    "### Correction to schedules"
   ]
  },
  {
   "cell_type": "code",
   "execution_count": null,
   "metadata": {
    "scrolled": true
   },
   "outputs": [],
   "source": [
    "# Correct for the departure times\n",
    "corr_initial = sg.correct_dep_times(initial, od_matrix, round_trips, network_dim)"
   ]
  },
  {
   "cell_type": "code",
   "execution_count": null,
   "metadata": {},
   "outputs": [],
   "source": [
    "# Merge services into vehicle schedules\n",
    "vehicle_schedules = sg.services_to_vehicles(corr_initial, round_trips, network_dim)\n",
    "vehicle_schedules"
   ]
  },
  {
   "cell_type": "markdown",
   "metadata": {},
   "source": [
    "## Evaluate solution"
   ]
  },
  {
   "cell_type": "code",
   "execution_count": null,
   "metadata": {},
   "outputs": [],
   "source": [
    "waiting_time_dict = se.calc_waiting_time(vehicle_schedules)\n",
    "inveh_time_dict = se.calc_in_vehicle_time(vehicle_schedules)\n",
    "total_tt_dict = se.calculate_ttt(inveh_time_dict, waiting_time_dict)"
   ]
  },
  {
   "cell_type": "code",
   "execution_count": null,
   "metadata": {
    "scrolled": false
   },
   "outputs": [],
   "source": [
    "# check if indeed all requests are added to a schedule\n",
    "copy_grouped_requests"
   ]
  },
  {
   "cell_type": "code",
   "execution_count": null,
   "metadata": {},
   "outputs": [],
   "source": [
    "sum_stops = se.sum_total_tt(total_tt_dict, level='stop')\n",
    "sum_vehicle = se.sum_total_tt(total_tt_dict, level='vehicle')\n",
    "sum_total = se.sum_total_tt(total_tt_dict, level='total')\n",
    "\n",
    "# sum splitted into respecitvely waiting & iv time\n",
    "wt_stops = se.sum_total_tt(waiting_time_dict, level='stop')\n",
    "ivt_stops = se.sum_total_tt(inveh_time_dict, level='stop')"
   ]
  },
  {
   "cell_type": "code",
   "execution_count": null,
   "metadata": {},
   "outputs": [],
   "source": [
    "sum_stops"
   ]
  },
  {
   "cell_type": "code",
   "execution_count": null,
   "metadata": {},
   "outputs": [],
   "source": [
    "sum_vehicle"
   ]
  },
  {
   "cell_type": "code",
   "execution_count": null,
   "metadata": {
    "scrolled": true
   },
   "outputs": [],
   "source": [
    "sum_total"
   ]
  },
  {
   "cell_type": "code",
   "execution_count": null,
   "metadata": {},
   "outputs": [],
   "source": [
    "occ = se.calc_occupancy_rate(vehicle_schedules, vehicle_capacity)"
   ]
  },
  {
   "cell_type": "markdown",
   "metadata": {},
   "source": [
    "## Solution visualisation"
   ]
  },
  {
   "cell_type": "code",
   "execution_count": null,
   "metadata": {},
   "outputs": [],
   "source": [
    "df_solution = sv.convert_to_dataframe(vehicle_schedules)\n",
    "df_wt = sv.convert_to_dataframe(wt_stops)\n",
    "df_ivt = sv.convert_to_dataframe(wt_stops)\n",
    "df_occ = sv.convert_to_dataframe(occ)\n",
    "\n",
    "col_names = ['dep_time','abboard_pax1','abboard_pax2','abboard_pax3','sum_wt','sum_ivt','veh_occ']\n",
    "df_all = pd.concat([df_solution,df_wt, df_ivt, df_occ], axis=1)\n",
    "df_all.columns = col_names"
   ]
  },
  {
   "cell_type": "code",
   "execution_count": null,
   "metadata": {
    "scrolled": true
   },
   "outputs": [],
   "source": [
    "df_all"
   ]
  },
  {
   "cell_type": "code",
   "execution_count": null,
   "metadata": {},
   "outputs": [],
   "source": [
    "df_all.to_excel(\"Exports/entire_solution.xlsx\")"
   ]
  }
 ],
 "metadata": {
  "kernelspec": {
   "display_name": "Python 3",
   "language": "python",
   "name": "python3"
  },
  "language_info": {
   "codemirror_mode": {
    "name": "ipython",
    "version": 3
   },
   "file_extension": ".py",
   "mimetype": "text/x-python",
   "name": "python",
   "nbconvert_exporter": "python",
   "pygments_lexer": "ipython3",
   "version": "3.8.5"
  }
 },
 "nbformat": 4,
 "nbformat_minor": 5
}
