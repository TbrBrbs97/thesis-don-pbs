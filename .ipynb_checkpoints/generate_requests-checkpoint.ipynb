{
 "cells": [
  {
   "cell_type": "markdown",
   "id": "78e08ccd",
   "metadata": {},
   "source": [
    "To do:\n",
    "\n",
    "- Read demand data\n",
    "- Mean demand --> discrete requests (random issue+pick-up time)\n",
    "    - Is there any demand in this running instance for this od-pair?\n",
    "    - If there is demand > 0 for an od, then put it at random points during the peak hour (=attach a pick-up time between 0 and 60)\n",
    "- Import OD-matrix (travel times)"
   ]
  },
  {
   "cell_type": "code",
   "execution_count": 1,
   "id": "62518dce",
   "metadata": {},
   "outputs": [],
   "source": [
    "import pandas as pd\n",
    "import numpy as np"
   ]
  },
  {
   "cell_type": "code",
   "execution_count": 2,
   "id": "5595bc52",
   "metadata": {},
   "outputs": [],
   "source": [
    "#lambdapeak: Mean demand to travel towards the city center during peak hours\n",
    "#mupeak: Mean demand to travel towards the terminal during peak hours\n",
    "\n",
    "lambdapeak = pd.read_excel('Data/Demand rates/DemandInputSmall3.xlsx',sheet_name=0,header=0, index_col=(0,1), dtype=float)\n",
    "mupeak = pd.read_excel('Data/Demand rates/DemandInputSmall3.xlsx',sheet_name=1,header=0, index_col=(0,1), dtype=float)"
   ]
  },
  {
   "cell_type": "code",
   "execution_count": 8,
   "id": "2f9de213",
   "metadata": {
    "scrolled": false
   },
   "outputs": [],
   "source": [
    "def load_demand_scenario(lambdapeak, mupeak, direction=None, scenario=1):\n",
    "    if direction == 'city':\n",
    "        result = lambdapeak.to_dict()\n",
    "    elif direction == 'terminal':\n",
    "        result = mupeak.to_dict()\n",
    "    \n",
    "    return result[scenario]\n",
    "\n",
    "lambdapeak_scen = load_demand_scenario(lambdapeak, mupeak, 'city', 3)"
   ]
  },
  {
   "cell_type": "code",
   "execution_count": 13,
   "id": "0db6d542",
   "metadata": {},
   "outputs": [
    {
     "data": {
      "text/plain": [
       "{(1, 1): 5,\n",
       " (1, 2): 1,\n",
       " (1, 3): 0,\n",
       " (2, 1): 3,\n",
       " (2, 2): 9,\n",
       " (2, 3): 0,\n",
       " (3, 1): 2,\n",
       " (3, 2): 6,\n",
       " (3, 3): 0}"
      ]
     },
     "execution_count": 13,
     "metadata": {},
     "output_type": "execute_result"
    }
   ],
   "source": [
    "#calculate wether for this loading instance there are any requests per od-pair\n",
    "\n",
    "def convert_poisson_demand(demand_scenario):\n",
    "    \n",
    "    for key in demand_scenario.keys():\n",
    "        n = np.random.poisson((demand_scenario[key]), 1)[0]\n",
    "        demand_scenario[key] = n\n",
    "        \n",
    "    return demand_scenario\n",
    "\n",
    "convert_poisson_demand(lambdapeak_scen)\n",
    "lambdapeak_scen"
   ]
  },
  {
   "cell_type": "code",
   "execution_count": 27,
   "id": "7bf81395",
   "metadata": {},
   "outputs": [
    {
     "data": {
      "text/plain": [
       "{(1, 1): [2, 28, 39, 49, 55],\n",
       " (1, 2): [15],\n",
       " (2, 1): [5, 51, 56],\n",
       " (2, 2): [6, 13, 22, 26, 33, 34, 39, 40, 57],\n",
       " (3, 1): [6, 59],\n",
       " (3, 2): [5, 8, 11, 28, 38, 50]}"
      ]
     },
     "execution_count": 27,
     "metadata": {},
     "output_type": "execute_result"
    }
   ],
   "source": [
    "# this function generates the discrete requests \n",
    "\n",
    "def generate_requests(poisson_demand):\n",
    "\n",
    "    requests = {}\n",
    "\n",
    "    for od in poisson_demand.keys():\n",
    "        if poisson_demand[od] > 0:\n",
    "            requests_od = []\n",
    "            requests[od] = requests_od\n",
    "            for r in range(poisson_demand[od]):\n",
    "                rand_pickup_time = np.random.randint(60)\n",
    "                requests[od].append(rand_pickup_time)\n",
    "            requests[od].sort()\n",
    "    \n",
    "    return requests\n",
    "\n",
    "lambdapeak_requests = generate_requests(lambdapeak_scen)\n",
    "lambdapeak_requests\n"
   ]
  },
  {
   "cell_type": "code",
   "execution_count": 34,
   "id": "0fd7fd2a",
   "metadata": {},
   "outputs": [
    {
     "data": {
      "text/plain": [
       "[((1, 1), 2),\n",
       " ((1, 1), 28),\n",
       " ((1, 1), 39),\n",
       " ((1, 1), 49),\n",
       " ((1, 1), 55),\n",
       " ((1, 2), 15),\n",
       " ((2, 1), 5),\n",
       " ((2, 1), 51),\n",
       " ((2, 1), 56),\n",
       " ((2, 2), 6),\n",
       " ((2, 2), 13),\n",
       " ((2, 2), 22),\n",
       " ((2, 2), 26),\n",
       " ((2, 2), 33),\n",
       " ((2, 2), 34),\n",
       " ((2, 2), 39),\n",
       " ((2, 2), 40),\n",
       " ((2, 2), 57),\n",
       " ((3, 1), 6),\n",
       " ((3, 1), 59),\n",
       " ((3, 2), 5),\n",
       " ((3, 2), 8),\n",
       " ((3, 2), 11),\n",
       " ((3, 2), 28),\n",
       " ((3, 2), 38),\n",
       " ((3, 2), 50)]"
      ]
     },
     "execution_count": 34,
     "metadata": {},
     "output_type": "execute_result"
    }
   ],
   "source": [
    "# create individual requests. R = ((o,d), pickuptime)\n",
    "\n",
    "lst_of_ind_requests = []\n",
    "\n",
    "for k in lambdapeak_requests.keys():\n",
    "    for v in lambdapeak_requests[k]:\n",
    "        lst_of_ind_requests.append((k, v))\n",
    "        \n",
    "lst_of_ind_requests"
   ]
  }
 ],
 "metadata": {
  "kernelspec": {
   "display_name": "Python 3",
   "language": "python",
   "name": "python3"
  },
  "language_info": {
   "codemirror_mode": {
    "name": "ipython",
    "version": 3
   },
   "file_extension": ".py",
   "mimetype": "text/x-python",
   "name": "python",
   "nbconvert_exporter": "python",
   "pygments_lexer": "ipython3",
   "version": "3.9.4"
  }
 },
 "nbformat": 4,
 "nbformat_minor": 5
}
