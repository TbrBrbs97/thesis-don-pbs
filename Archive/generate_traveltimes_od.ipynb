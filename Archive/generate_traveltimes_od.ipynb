{
 "cells": [
  {
   "cell_type": "code",
   "execution_count": 1,
   "metadata": {},
   "outputs": [],
   "source": [
    "import pandas as pd\n",
    "import numpy as np\n",
    "import math\n",
    "import networkx as nx\n",
    "import pickle"
   ]
  },
  {
   "cell_type": "code",
   "execution_count": 2,
   "metadata": {},
   "outputs": [],
   "source": [
    "Stops = nx.Graph()"
   ]
  },
  {
   "cell_type": "code",
   "execution_count": 3,
   "metadata": {
    "scrolled": true
   },
   "outputs": [
    {
     "data": {
      "text/plain": [
       "{1: {'x-coord': 0.0, 'y-coord': 0.0},\n",
       " 2: {'x-coord': 2.5, 'y-coord': 4.3},\n",
       " 3: {'x-coord': 5.0, 'y-coord': 0.0}}"
      ]
     },
     "execution_count": 3,
     "metadata": {},
     "output_type": "execute_result"
    }
   ],
   "source": [
    "small_network = pd.read_excel('Data/Benchmark Lines/smalleuchalf.xlsx',sheet_name=0,header=0, index_col=0, dtype=float)\n",
    "small_nw_dict = small_network.to_dict('index')\n",
    "small_nw_dict"
   ]
  },
  {
   "cell_type": "code",
   "execution_count": 4,
   "metadata": {},
   "outputs": [],
   "source": [
    "# duplicate for stops in the other direction\n",
    "\n",
    "def add_duplicate_stops(network):\n",
    "    n = len(network)\n",
    "    for i in range(1,n):\n",
    "        network[n+i] = network[n-i]\n",
    "        \n",
    "    return network"
   ]
  },
  {
   "cell_type": "code",
   "execution_count": 5,
   "metadata": {
    "scrolled": true
   },
   "outputs": [
    {
     "data": {
      "text/plain": [
       "{1: {'x-coord': 0.0, 'y-coord': 0.0},\n",
       " 2: {'x-coord': 2.5, 'y-coord': 4.3},\n",
       " 3: {'x-coord': 5.0, 'y-coord': 0.0},\n",
       " 4: {'x-coord': 2.5, 'y-coord': 4.3},\n",
       " 5: {'x-coord': 0.0, 'y-coord': 0.0}}"
      ]
     },
     "execution_count": 5,
     "metadata": {},
     "output_type": "execute_result"
    }
   ],
   "source": [
    "add_duplicate_stops(small_nw_dict)"
   ]
  },
  {
   "cell_type": "code",
   "execution_count": 6,
   "metadata": {},
   "outputs": [],
   "source": [
    "#parameters:\n",
    "\n",
    "v_mean = 40 #km/h\n",
    "# assuming distances are in km as well! "
   ]
  },
  {
   "cell_type": "code",
   "execution_count": 7,
   "metadata": {},
   "outputs": [],
   "source": [
    "def calculate_euclidean_dist(x1, y1, x2, y2):\n",
    "    result = math.sqrt((x1 - x2)**2 + (y1 - y2)**2)\n",
    "    return result"
   ]
  },
  {
   "cell_type": "code",
   "execution_count": 8,
   "metadata": {},
   "outputs": [],
   "source": [
    "# calculate OD-relations\n",
    "\n",
    "def generate_cost_matrix(network):\n",
    "    \n",
    "    od_matrix = {}\n",
    "    \n",
    "    n = len(network)\n",
    "        \n",
    "    for i in network.keys():\n",
    "        x_a, y_a = network[i]['x-coord'], network[i]['y-coord']\n",
    "        for j in network.keys():\n",
    "            x_b, y_b = network[j]['x-coord'], network[j]['y-coord']\n",
    "            distance = calculate_euclidean_dist(x_a, y_a, x_b, y_b)\n",
    "            travel_time = distance / v_mean\n",
    "            \n",
    "            od_matrix[(i,j)] = travel_time\n",
    "            \n",
    "    return od_matrix"
   ]
  },
  {
   "cell_type": "code",
   "execution_count": 11,
   "metadata": {
    "scrolled": true
   },
   "outputs": [],
   "source": [
    "travel_times = generate_cost_matrix(small_nw_dict) #travel time in hours"
   ]
  },
  {
   "cell_type": "code",
   "execution_count": 13,
   "metadata": {},
   "outputs": [],
   "source": [
    "od_matrix = open(\"Data/small_od_matrix.pkl\", \"wb\")\n",
    "pickle.dump(travel_times, od_matrix)\n",
    "od_matrix.close()"
   ]
  }
 ],
 "metadata": {
  "kernelspec": {
   "display_name": "Python 3",
   "language": "python",
   "name": "python3"
  },
  "language_info": {
   "codemirror_mode": {
    "name": "ipython",
    "version": 3
   },
   "file_extension": ".py",
   "mimetype": "text/x-python",
   "name": "python",
   "nbconvert_exporter": "python",
   "pygments_lexer": "ipython3",
   "version": "3.8.5"
  }
 },
 "nbformat": 4,
 "nbformat_minor": 5
}
