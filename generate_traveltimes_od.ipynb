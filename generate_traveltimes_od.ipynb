{
 "cells": [
  {
   "cell_type": "code",
   "execution_count": 54,
   "id": "7282ddd2",
   "metadata": {},
   "outputs": [],
   "source": [
    "import pandas as pd\n",
    "import numpy as np\n",
    "import math\n",
    "import networkx as nx"
   ]
  },
  {
   "cell_type": "code",
   "execution_count": 4,
   "id": "3b90af00",
   "metadata": {},
   "outputs": [],
   "source": [
    "Stops = nx.Graph()"
   ]
  },
  {
   "cell_type": "code",
   "execution_count": 48,
   "id": "ec1f6a41",
   "metadata": {
    "scrolled": true
   },
   "outputs": [
    {
     "data": {
      "text/plain": [
       "{1: {'x-coord': 0.0, 'y-coord': 0.0},\n",
       " 2: {'x-coord': 2.5, 'y-coord': 4.3},\n",
       " 3: {'x-coord': 5.0, 'y-coord': 0.0}}"
      ]
     },
     "execution_count": 48,
     "metadata": {},
     "output_type": "execute_result"
    }
   ],
   "source": [
    "small_network = pd.read_excel('Data/Benchmark Lines/smalleuchalf.xlsx',sheet_name=0,header=0, index_col=0, dtype=float)\n",
    "small_nw_dict = small_network.to_dict('index')\n",
    "small_nw_dict"
   ]
  },
  {
   "cell_type": "code",
   "execution_count": 49,
   "id": "4bfd05f6",
   "metadata": {},
   "outputs": [],
   "source": [
    "# duplicate for stops in the other direction\n",
    "\n",
    "def add_duplicate_stops(network):\n",
    "    n = len(network)\n",
    "    for i in range(1,n):\n",
    "        network[n+i] = network[n-i]\n",
    "        \n",
    "    return network"
   ]
  },
  {
   "cell_type": "code",
   "execution_count": 50,
   "id": "a2a5fa79",
   "metadata": {
    "scrolled": true
   },
   "outputs": [
    {
     "data": {
      "text/plain": [
       "{1: {'x-coord': 0.0, 'y-coord': 0.0},\n",
       " 2: {'x-coord': 2.5, 'y-coord': 4.3},\n",
       " 3: {'x-coord': 5.0, 'y-coord': 0.0},\n",
       " 4: {'x-coord': 2.5, 'y-coord': 4.3},\n",
       " 5: {'x-coord': 0.0, 'y-coord': 0.0}}"
      ]
     },
     "execution_count": 50,
     "metadata": {},
     "output_type": "execute_result"
    }
   ],
   "source": [
    "add_duplicate_stops(small_nw_dict)"
   ]
  },
  {
   "cell_type": "code",
   "execution_count": 80,
   "id": "6b4064cb",
   "metadata": {},
   "outputs": [],
   "source": [
    "#parameters:\n",
    "\n",
    "v_mean = 40 #km/h\n",
    "# assuming distances are in km as well! "
   ]
  },
  {
   "cell_type": "code",
   "execution_count": 81,
   "id": "822e866a",
   "metadata": {},
   "outputs": [],
   "source": [
    "def calculate_euclidean_dist(x1, y1, x2, y2):\n",
    "    result = math.sqrt((x1 - x2)**2 + (y1 - y2)**2)\n",
    "    return result"
   ]
  },
  {
   "cell_type": "code",
   "execution_count": 82,
   "id": "db2249af",
   "metadata": {},
   "outputs": [],
   "source": [
    "# calculate OD-relations\n",
    "\n",
    "def generate_tt_od(network):\n",
    "    \n",
    "    od_matrix = {}\n",
    "    \n",
    "    n = len(network)\n",
    "        \n",
    "    for i in network.keys():\n",
    "        x_a, y_a = network[i]['x-coord'], network[i]['y-coord']\n",
    "        for j in network.keys():\n",
    "            x_b, y_b = network[j]['x-coord'], network[j]['y-coord']\n",
    "            distance = calculate_euclidean_dist(x_a, y_a, x_b, y_b)\n",
    "            travel_time = distance / v_mean\n",
    "            \n",
    "            od_matrix[(i,j)] = travel_time\n",
    "            \n",
    "    return od_matrix"
   ]
  },
  {
   "cell_type": "code",
   "execution_count": 83,
   "id": "6aafc38e",
   "metadata": {},
   "outputs": [
    {
     "data": {
      "text/plain": [
       "{(1, 1): 0.0,\n",
       " (1, 2): 0.12434830115445887,\n",
       " (1, 3): 0.125,\n",
       " (1, 4): 0.12434830115445887,\n",
       " (1, 5): 0.0,\n",
       " (2, 1): 0.12434830115445887,\n",
       " (2, 2): 0.0,\n",
       " (2, 3): 0.12434830115445887,\n",
       " (2, 4): 0.0,\n",
       " (2, 5): 0.12434830115445887,\n",
       " (3, 1): 0.125,\n",
       " (3, 2): 0.12434830115445887,\n",
       " (3, 3): 0.0,\n",
       " (3, 4): 0.12434830115445887,\n",
       " (3, 5): 0.125,\n",
       " (4, 1): 0.12434830115445887,\n",
       " (4, 2): 0.0,\n",
       " (4, 3): 0.12434830115445887,\n",
       " (4, 4): 0.0,\n",
       " (4, 5): 0.12434830115445887,\n",
       " (5, 1): 0.0,\n",
       " (5, 2): 0.12434830115445887,\n",
       " (5, 3): 0.125,\n",
       " (5, 4): 0.12434830115445887,\n",
       " (5, 5): 0.0}"
      ]
     },
     "execution_count": 83,
     "metadata": {},
     "output_type": "execute_result"
    }
   ],
   "source": [
    "generate_tt_od(small_nw_dict) #travel time in hours"
   ]
  }
 ],
 "metadata": {
  "kernelspec": {
   "display_name": "Python 3",
   "language": "python",
   "name": "python3"
  },
  "language_info": {
   "codemirror_mode": {
    "name": "ipython",
    "version": 3
   },
   "file_extension": ".py",
   "mimetype": "text/x-python",
   "name": "python",
   "nbconvert_exporter": "python",
   "pygments_lexer": "ipython3",
   "version": "3.9.4"
  }
 },
 "nbformat": 4,
 "nbformat_minor": 5
}
